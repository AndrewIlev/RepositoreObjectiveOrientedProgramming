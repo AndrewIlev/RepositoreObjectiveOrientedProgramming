{
 "cells": [
  {
   "cell_type": "markdown",
   "id": "97076ee6",
   "metadata": {},
   "source": [
    "### 1. Змінні та типи даних"
   ]
  },
  {
   "cell_type": "code",
   "execution_count": 9,
   "id": "a375aa3c",
   "metadata": {},
   "outputs": [
    {
     "name": "stdout",
     "output_type": "stream",
     "text": [
      "Олена 25 1.68 True\n"
     ]
    }
   ],
   "source": [
    "# приклади змінних\n",
    "name = \"Олена\"       # рядок (str)\n",
    "age = 25             # ціле число (int)\n",
    "height = 1.68        # десяткове число (float)\n",
    "is_student = True    # логічне значення (bool)\n",
    "\n",
    "print(name, age, height, is_student)\n"
   ]
  },
  {
   "cell_type": "markdown",
   "id": "aaf3efa9",
   "metadata": {},
   "source": [
    "### 2. Оператори"
   ]
  },
  {
   "cell_type": "code",
   "execution_count": 8,
   "id": "5a9aa0bf",
   "metadata": {},
   "outputs": [
    {
     "name": "stdout",
     "output_type": "stream",
     "text": [
      "13\n",
      "7\n",
      "30\n",
      "3.3333333333333335\n",
      "3\n",
      "1\n",
      "1000\n"
     ]
    }
   ],
   "source": [
    "# арифметичні\n",
    "a = 10\n",
    "b = 3\n",
    "print(a + b)   # 13\n",
    "print(a - b)   # 7\n",
    "print(a * b)   # 30\n",
    "print(a / b)   # 3.333...\n",
    "print(a // b)  # 3 (цілочисельне ділення)\n",
    "print(a % b)   # 1 (остача)\n",
    "print(a ** b)  # 1000 (ступінь)\n"
   ]
  },
  {
   "cell_type": "markdown",
   "id": "fdbc32f6",
   "metadata": {},
   "source": [
    "### 3. Списки"
   ]
  },
  {
   "cell_type": "code",
   "execution_count": 7,
   "id": "753c3387",
   "metadata": {},
   "outputs": [
    {
     "name": "stdout",
     "output_type": "stream",
     "text": [
      "яблуко\n",
      "['яблуко', 'банан', 'вишня', 'груша']\n"
     ]
    }
   ],
   "source": [
    "fruits = [\"яблуко\", \"банан\", \"вишня\"]\n",
    "print(fruits[0])        # звернення за індексом\n",
    "fruits.append(\"груша\")  # додавання елемента\n",
    "print(fruits)\n"
   ]
  },
  {
   "cell_type": "markdown",
   "id": "ec07c450",
   "metadata": {},
   "source": [
    "### 4. Умовні оператори"
   ]
  },
  {
   "cell_type": "code",
   "execution_count": 6,
   "id": "7fb9cfdd",
   "metadata": {},
   "outputs": [
    {
     "name": "stdout",
     "output_type": "stream",
     "text": [
      "Дорослий\n"
     ]
    }
   ],
   "source": [
    "age = 18\n",
    "if age >= 18:\n",
    "    print(\"Дорослий\")\n",
    "else:\n",
    "    print(\"Дитина\")\n"
   ]
  },
  {
   "cell_type": "markdown",
   "id": "24b2f7fd",
   "metadata": {},
   "source": [
    "### 5. Цикли"
   ]
  },
  {
   "cell_type": "code",
   "execution_count": 5,
   "id": "075eca83",
   "metadata": {},
   "outputs": [
    {
     "name": "stdout",
     "output_type": "stream",
     "text": [
      "Це цикл номер: 0\n",
      "Це цикл номер: 1\n",
      "Це цикл номер: 2\n",
      "Це цикл номер: 3\n",
      "Це цикл номер: 4\n",
      "Підрахунок: 0\n",
      "Підрахунок: 1\n",
      "Підрахунок: 2\n"
     ]
    }
   ],
   "source": [
    "# цикл for\n",
    "for i in range(5):\n",
    "    print(\"Це цикл номер:\", i)\n",
    "\n",
    "# цикл while\n",
    "count = 0\n",
    "while count < 3:\n",
    "    print(\"Підрахунок:\", count)\n",
    "    count += 1\n"
   ]
  },
  {
   "cell_type": "markdown",
   "id": "faf1a7e6",
   "metadata": {},
   "source": [
    "### 6. Функції"
   ]
  },
  {
   "cell_type": "code",
   "execution_count": 4,
   "id": "f47e712a",
   "metadata": {},
   "outputs": [
    {
     "name": "stdout",
     "output_type": "stream",
     "text": [
      "Привіт, Олена!\n"
     ]
    }
   ],
   "source": [
    "def greet(name):\n",
    "    return f\"Привіт, {name}!\"\n",
    "\n",
    "print(greet(\"Олена\"))\n"
   ]
  },
  {
   "cell_type": "markdown",
   "id": "d2d9fed4",
   "metadata": {},
   "source": [
    "### 7. Робота з бібліотеками"
   ]
  },
  {
   "cell_type": "code",
   "execution_count": 3,
   "id": "51cc762a",
   "metadata": {},
   "outputs": [
    {
     "name": "stdout",
     "output_type": "stream",
     "text": [
      "4.0\n",
      "3\n"
     ]
    }
   ],
   "source": [
    "import math\n",
    "print(math.sqrt(16))  # квадратний корінь\n",
    "\n",
    "import random\n",
    "print(random.randint(1, 10))  # випадкове число\n"
   ]
  },
  {
   "cell_type": "markdown",
   "id": "5d65eeee",
   "metadata": {},
   "source": [
    "### 8. Лямбда-функції\n",
    " "
   ]
  },
  {
   "cell_type": "code",
   "execution_count": 13,
   "id": "2ea97e82",
   "metadata": {},
   "outputs": [
    {
     "name": "stdout",
     "output_type": "stream",
     "text": [
      "25\n",
      "[1, 4, 9, 16, 25]\n",
      "[('Іван', 19), ('Андрій', 25), ('Марія', 30)]\n"
     ]
    }
   ],
   "source": [
    "# Лямбда для піднесення числа до квадрату\n",
    "square = lambda x: x ** 2\n",
    "print(square(5))  # Виведе: 25\n",
    "\n",
    "# Лямбда у функції map()\n",
    "numbers = [1, 2, 3, 4, 5]\n",
    "squares = list(map(lambda x: x ** 2, numbers))\n",
    "print(squares)  # [1, 4, 9, 16, 25]\n",
    "\n",
    "people = [\n",
    "    (\"Андрій\", 25),\n",
    "    (\"Іван\", 19),\n",
    "    (\"Марія\", 30)\n",
    "]\n",
    "# Сортуємо за віком\n",
    "sorted_people = sorted(people, key=lambda person: person[1])\n",
    "print(sorted_people)  # [('Іван', 19), ('Андрій', 25), ('Марія', 30)]\n"
   ]
  }
 ],
 "metadata": {
  "kernelspec": {
   "display_name": "Python 3",
   "language": "python",
   "name": "python3"
  },
  "language_info": {
   "codemirror_mode": {
    "name": "ipython",
    "version": 3
   },
   "file_extension": ".py",
   "mimetype": "text/x-python",
   "name": "python",
   "nbconvert_exporter": "python",
   "pygments_lexer": "ipython3",
   "version": "3.13.7"
  }
 },
 "nbformat": 4,
 "nbformat_minor": 5
}
